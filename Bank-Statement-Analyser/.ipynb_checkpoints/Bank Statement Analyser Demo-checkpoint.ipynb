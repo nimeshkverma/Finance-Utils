{
 "cells": [
  {
   "cell_type": "markdown",
   "metadata": {},
   "source": [
    "#### Simple Demo for the Ananlysis of the Account Statements of the following primary Banks of India:\n",
    "- ICICI\n",
    "- HDFC\n",
    "- AXIS"
   ]
  },
  {
   "cell_type": "code",
   "execution_count": 10,
   "metadata": {
    "collapsed": true
   },
   "outputs": [],
   "source": [
    "from BankStatements import BankStatements"
   ]
  },
  {
   "cell_type": "markdown",
   "metadata": {},
   "source": [
    "Please provid the path of the bank statement pdf and password as an argument to the Class `BankStatements`"
   ]
  },
  {
   "cell_type": "code",
   "execution_count": 11,
   "metadata": {
    "collapsed": true
   },
   "outputs": [],
   "source": [
    "bank_statements = BankStatements('icici.pdf', '')"
   ]
  },
  {
   "cell_type": "markdown",
   "metadata": {},
   "source": [
    "`bank_statements` object has the following attributes and functions:\n",
    "- `pdf_json` \n",
    "    This attribute provide the table in the input bank statement pdf as raw json as provided by library `tabula-py`\n",
    "- `raw_table_data`\n",
    "    This attribute provide the table in the input bank statement pdf in semi processed dictionary\n",
    "- `pdf_text`\n",
    "    This attribute provide all the content present in the pdf as single string\n",
    "- `specific_bank`\n",
    "    This attribute (the most usefull one) provide the object of the Specific bank class"
   ]
  },
  {
   "cell_type": "code",
   "execution_count": 12,
   "metadata": {
    "collapsed": true
   },
   "outputs": [],
   "source": [
    "icici_bank_statements = bank_statements.specific_bank"
   ]
  },
  {
   "cell_type": "markdown",
   "metadata": {},
   "source": [
    "`icici_bank_statements` object has the following attributes and functions:\n",
    "- `statements`\n",
    "    This attribute provide all the rows in the icici bank pdf as list of list\n",
    "- `transaction`\n",
    "    This attribute provide date and account balance dictionary for the icici bank pdf table\n",
    "- `stats`\n",
    "    This attribute provide the following aggregated key results from the table in the icici account statements:\n",
    "    -  `average_balance` : Average balance in the period for which bank statements are provided\n",
    "    -  `days` : Number of days for which bank statements are provided\n",
    "    -  `start_date` : The date from which the transaction started\n",
    "    -  `end_date` : The date at which the transaction ended\n",
    "    -  `pdf_text_start_date` : The start date of the period for which the statements are generated, obtained by pdf text extraction\n",
    "    -  `pdf_text_end_date` : The end date of the period for which the statements are generated, obtained by pdf text extraction\n",
    "- `all_day_transactions`\n",
    "    This attribute provides transaction ie account balance on each day of the period\n",
    "- `get_days_above_given_balance(9000)`\n",
    "    This function will return the days from `pdf_text_start_date` to `pdf_text_end_date` when the account balance was less than 9000\n",
    "- `get_days_above_given_balance_unpartial_months(9000)`\n",
    "    This function will return the days when the account balance was less than 9000 in the complete (starting from 1 to 28/29/30/31) months"
   ]
  },
  {
   "cell_type": "code",
   "execution_count": 8,
   "metadata": {},
   "outputs": [
    {
     "name": "stdout",
     "output_type": "stream",
     "text": [
      "{'end_date': datetime.datetime(2017, 5, 29, 0, 0), 'average_balance': 39625.96, 'days': 31, 'pdf_text_start_date': datetime.datetime(2017, 5, 1, 0, 0), 'pdf_text_end_date': datetime.datetime(2017, 5, 31, 0, 0), 'start_date': datetime.datetime(2017, 5, 4, 0, 0)}\n"
     ]
    }
   ],
   "source": [
    "print icici_bank_statements.stats"
   ]
  },
  {
   "cell_type": "code",
   "execution_count": 9,
   "metadata": {},
   "outputs": [
    {
     "name": "stdout",
     "output_type": "stream",
     "text": [
      "{'below_above_balance_daywise': {datetime.datetime(2017, 5, 8, 0, 0): 95441.54}, 'no_of_days': 1, 'given_balance': 90000}\n"
     ]
    }
   ],
   "source": [
    "print icici_bank_statements.get_days_above_given_balance_unpartial_months(90000)"
   ]
  },
  {
   "cell_type": "code",
   "execution_count": null,
   "metadata": {
    "collapsed": true
   },
   "outputs": [],
   "source": []
  },
  {
   "cell_type": "code",
   "execution_count": null,
   "metadata": {
    "collapsed": true
   },
   "outputs": [],
   "source": []
  }
 ],
 "metadata": {
  "kernelspec": {
   "display_name": "venv",
   "language": "python",
   "name": "venv"
  },
  "language_info": {
   "codemirror_mode": {
    "name": "ipython",
    "version": 2
   },
   "file_extension": ".py",
   "mimetype": "text/x-python",
   "name": "python",
   "nbconvert_exporter": "python",
   "pygments_lexer": "ipython2",
   "version": "2.7.10"
  }
 },
 "nbformat": 4,
 "nbformat_minor": 2
}
