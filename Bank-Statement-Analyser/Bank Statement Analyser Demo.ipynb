{
 "cells": [
  {
   "cell_type": "markdown",
   "metadata": {},
   "source": [
    "#### Simple Demo for the Ananlysis of the Account Statements of the following primary Banks of India:\n",
    "- ICICI\n",
    "- HDFC\n",
    "- AXIS"
   ]
  },
  {
   "cell_type": "code",
   "execution_count": 2,
   "metadata": {
    "collapsed": true
   },
   "outputs": [],
   "source": [
    "from BankStatements import BankStatements"
   ]
  },
  {
   "cell_type": "markdown",
   "metadata": {},
   "source": [
    "Please provid the path of the bank statement pdf and password as an argument to the Class `BankStatements`"
   ]
  },
  {
   "cell_type": "code",
   "execution_count": 3,
   "metadata": {},
   "outputs": [
    {
     "name": "stdout",
     "output_type": "stream",
     "text": [
      "{'pdf_text_start_date': datetime.datetime(2017, 5, 1, 0, 0), 'pdf_text_end_date': datetime.datetime(2017, 5, 31, 0, 0), 'start_date': datetime.datetime(2017, 5, 4, 0, 0), 'end_date': datetime.datetime(2017, 5, 29, 0, 0), 'days': 31}\n"
     ]
    }
   ],
   "source": [
    "bank_statements = BankStatements('icici.pdf', '')"
   ]
  },
  {
   "cell_type": "markdown",
   "metadata": {},
   "source": [
    "`bank_statements` object has the following attributes and functions:\n",
    "- `pdf_json` \n",
    "    This attribute provide the table in the input bank statement pdf as raw json as provided by library `tabula-py`\n",
    "- `raw_table_data`\n",
    "    This attribute provide the table in the input bank statement pdf in semi processed dictionary\n",
    "- `pdf_text`\n",
    "    This attribute provide all the content present in the pdf as single string\n",
    "- `specific_bank`\n",
    "    This attribute (the most usefull one) provide the object of the Specific bank class"
   ]
  },
  {
   "cell_type": "code",
   "execution_count": 4,
   "metadata": {
    "collapsed": true
   },
   "outputs": [],
   "source": [
    "icici_bank_statements = bank_statements.specific_bank"
   ]
  },
  {
   "cell_type": "markdown",
   "metadata": {},
   "source": [
    "`icici_bank_statements` object has the following attributes and functions:\n",
    "- `statements`\n",
    "    This attribute provide all the rows in the icici bank pdf as list of list\n",
    "- `transaction`\n",
    "    This attribute provide date and account balance dictionary for the icici bank pdf table\n",
    "- `stats`\n",
    "    This attribute provide the following aggregated key results from the table in the icici account statements:\n",
    "    -  `average_balance` : Average balance in the period for which bank statements are provided\n",
    "    -  `days` : Number of days for which bank statements are provided\n",
    "    -  `start_date` : The date from which the transaction started\n",
    "    -  `end_date` : The date at which the transaction ended\n",
    "    -  `pdf_text_start_date` : The start date of the period for which the statements are generated, obtained by pdf text extraction\n",
    "    -  `pdf_text_end_date` : The end date of the period for which the statements are generated, obtained by pdf text extraction\n",
    "- `all_day_transactions`\n",
    "    This attribute provides transaction ie account balance on each day of the period\n",
    "- `get_days_above_given_balance(9000)`\n",
    "    This function will return the days from `pdf_text_start_date` to `pdf_text_end_date` when the account balance was less than 9000\n",
    "- `get_days_above_given_balance_unpartial_months(9000)`\n",
    "    This function will return the days when the account balance was less than 9000 in the complete (starting from 1 to 28/29/30/31) months"
   ]
  },
  {
   "cell_type": "code",
   "execution_count": 5,
   "metadata": {},
   "outputs": [
    {
     "name": "stdout",
     "output_type": "stream",
     "text": [
      "{'end_date': datetime.datetime(2017, 5, 29, 0, 0), 'average_balance': 39625.96, 'days': 31, 'pdf_text_start_date': datetime.datetime(2017, 5, 1, 0, 0), 'pdf_text_end_date': datetime.datetime(2017, 5, 31, 0, 0), 'start_date': datetime.datetime(2017, 5, 4, 0, 0)}\n"
     ]
    }
   ],
   "source": [
    "print icici_bank_statements.stats"
   ]
  },
  {
   "cell_type": "code",
   "execution_count": 6,
   "metadata": {},
   "outputs": [
    {
     "name": "stdout",
     "output_type": "stream",
     "text": [
      "{'below_above_balance_daywise': {datetime.datetime(2017, 5, 8, 0, 0): 95441.54}, 'no_of_days': 1, 'given_balance': 90000}\n"
     ]
    }
   ],
   "source": [
    "print icici_bank_statements.get_days_above_given_balance_unpartial_months(90000)"
   ]
  },
  {
   "cell_type": "code",
   "execution_count": 7,
   "metadata": {},
   "outputs": [
    {
     "name": "stdout",
     "output_type": "stream",
     "text": [
      "{'pdf_text_start_date': datetime.datetime(2016, 12, 1, 0, 0), 'pdf_text_end_date': datetime.datetime(2017, 6, 5, 0, 0), 'start_date': datetime.datetime(2016, 12, 1, 0, 0), 'end_date': datetime.datetime(2017, 6, 5, 0, 0), 'days': 187}\n"
     ]
    }
   ],
   "source": [
    "bank_statements2 = BankStatements('hdfc.pdf', '')"
   ]
  },
  {
   "cell_type": "code",
   "execution_count": 8,
   "metadata": {
    "collapsed": true
   },
   "outputs": [],
   "source": [
    "hdfc_bank_statements = bank_statements2.specific_bank"
   ]
  },
  {
   "cell_type": "code",
   "execution_count": 9,
   "metadata": {},
   "outputs": [
    {
     "name": "stdout",
     "output_type": "stream",
     "text": [
      "{'end_date': datetime.datetime(2017, 6, 5, 0, 0), 'average_balance': 4862.12, 'days': 187, 'pdf_text_start_date': datetime.datetime(2016, 12, 1, 0, 0), 'pdf_text_end_date': datetime.datetime(2017, 6, 5, 0, 0), 'start_date': datetime.datetime(2016, 12, 1, 0, 0)}\n"
     ]
    }
   ],
   "source": [
    "print hdfc_bank_statements.stats"
   ]
  },
  {
   "cell_type": "code",
   "execution_count": 10,
   "metadata": {},
   "outputs": [
    {
     "name": "stdout",
     "output_type": "stream",
     "text": [
      "{'below_above_balance_daywise': {}, 'no_of_days': 0, 'given_balance': 90000}\n"
     ]
    }
   ],
   "source": [
    "print hdfc_bank_statements.get_days_above_given_balance_unpartial_months(90000)"
   ]
  },
  {
   "cell_type": "code",
   "execution_count": 12,
   "metadata": {},
   "outputs": [],
   "source": [
    "bank_statements3 = BankStatements('axis_DEVA836948344.pdf', 'DEVA836948344')"
   ]
  },
  {
   "cell_type": "code",
   "execution_count": 13,
   "metadata": {
    "collapsed": true
   },
   "outputs": [],
   "source": [
    "axis_bank_statements = bank_statements3.specific_bank"
   ]
  },
  {
   "cell_type": "code",
   "execution_count": 14,
   "metadata": {},
   "outputs": [
    {
     "name": "stdout",
     "output_type": "stream",
     "text": [
      "{'end_date': datetime.datetime(2017, 6, 24, 0, 0), 'average_balance': 8909.19, 'days': 183, 'pdf_text_start_date': datetime.datetime(2016, 12, 27, 0, 0), 'pdf_text_end_date': datetime.datetime(2017, 6, 27, 0, 0), 'start_date': datetime.datetime(2016, 12, 27, 0, 0)}\n"
     ]
    }
   ],
   "source": [
    "print axis_bank_statements.stats"
   ]
  },
  {
   "cell_type": "code",
   "execution_count": 18,
   "metadata": {},
   "outputs": [
    {
     "name": "stdout",
     "output_type": "stream",
     "text": [
      "{'below_above_balance_daywise': {datetime.datetime(2017, 2, 1, 0, 0): 78251.75, datetime.datetime(2017, 2, 2, 0, 0): 64137.75, datetime.datetime(2017, 2, 3, 0, 0): 61309.75, datetime.datetime(2017, 6, 6, 0, 0): 58342.2}, 'no_of_days': 4, 'given_balance': 50000}\n"
     ]
    }
   ],
   "source": [
    "print axis_bank_statements.get_days_above_given_balance_unpartial_months(50000)"
   ]
  },
  {
   "cell_type": "code",
   "execution_count": 19,
   "metadata": {
    "collapsed": true
   },
   "outputs": [],
   "source": [
    "bank_statements4 = BankStatements('sbi.pdf', '')"
   ]
  },
  {
   "cell_type": "code",
   "execution_count": 20,
   "metadata": {
    "collapsed": true
   },
   "outputs": [],
   "source": [
    "sbi_bank_statements= bank_statements4.specific_bank"
   ]
  },
  {
   "cell_type": "code",
   "execution_count": 25,
   "metadata": {},
   "outputs": [
    {
     "name": "stdout",
     "output_type": "stream",
     "text": [
      "2 [u'Date', u'No.']\n",
      "5 [u'26 Jan', u'26 Jan', u'ATM WDL-ATM CASH 70261', u'2,000.00', u'224.11']\n",
      "3 [u'2017', u'2017', u'+MALAKPET RAILWAY STN']\n",
      "1 [u'KV RANGAREDD-']\n",
      "6 [u'27 Jan', u'27 Jan', u'BY TRANSFER-INB', u'MA85841160MA8', u'6,800.00', u'7,024.11']\n",
      "4 [u'2017', u'2017', u'IMPS/P2A/702717922497/XXX', u'5841160']\n",
      "2 [u'XXXX855Rent jan17-', u'TRANSFER']\n",
      "1 [u'FROM 4']\n",
      "5 [u'27 Jan', u'27 Jan', u'ATM WDL-ATM CASH 70272', u'7,000.00', u'24.11']\n",
      "3 [u'2017', u'2017', u'AXIS BANK LIMITED']\n",
      "1 [u'HYDERABAD-']\n",
      "5 [u'31 Jan', u'31 Jan', u'BULK POSTING-JAN SALARY-', u'42,174.00', u'42,198.11']\n",
      "2 [u'2017', u'2017']\n",
      "6 [u'31 Jan', u'31 Jan', u'TO TRANSFER-INB ICICI Bank', u'HSBI5086815660I', u'1,000.00', u'41,198.11']\n",
      "4 [u'2017', u'2017', u'Credit cardICICI_CC', u'GAASGKJZ3']\n",
      "2 [u'Payments-', u'TRANSFER TO']\n",
      "6 [u'3 Feb 2017', u'3 Feb 2017', u'BY TRANSFER-INB', u'MA89880680MA8', u'4,500.00', u'45,698.11']\n",
      "2 [u'IMPS/P2A/703409359354/XXX', u'9880680']\n",
      "2 [u'XXXX419Rent-', u'TRANSFER']\n",
      "1 [u'FROM 4']\n",
      "5 [u'3 Feb 2017', u'3 Feb 2017', u'DEBIT-PAI RENEWAL-', u'200.00', u'45,498.11']\n",
      "6 [u'3 Feb 2017', u'3 Feb 2017', u'TO TRANSFER-INB BSNL', u'HSBI5093464629I', u'184.00', u'45,314.11']\n",
      "2 [u'BSNL_RECHARGE Paymen-', u'GAASSDFG3']\n",
      "1 [u'TRANSFER TO']\n",
      "5 [u'4 Feb 2017', u'4 Feb 2017', u'DEBIT-000000 SBI', u'6,429.04', u'38,885.07']\n",
      "1 [u'0000003605 SBI CREDIT']\n",
      "1 [u'CARD PAYMENT-']\n",
      "5 [u'5 Feb 2017', u'5 Feb 2017', u'ATM WDL-ATM CASH 3834', u'2,000.00', u'36,885.07']\n",
      "1 [u'+SBI AKBERBAGH,']\n",
      "1 [u'MALAKPHYDERABAD-']\n",
      "6 [u'6 Feb 2017', u'6 Feb 2017', u'TO TRANSFER-', u'TRANSFER TO', u'8,159.00', u'28,726.07']\n",
      "2 [u'P17275625297Tr For  DDR', u'31852207314']\n",
      "1 [u'BAJAJ-AUTO-']\n",
      "5 [u'6 Feb 2017', u'6 Feb 2017', u'ATM WDL-ATM CASH 70371', u'1,000.00', u'27,726.07']\n",
      "1 [u'+MALAKPET RAILWAY STN']\n",
      "1 [u'KV RANGAREDD-']\n",
      "5 [u'7 Feb 2017', u'7 Feb 2017', u'DEBIT-ACHDr', u'24,152.00', u'3,574.07']\n",
      "1 [u'HDFC05813000028172']\n",
      "1 [u'LICHOUSINGFINL-']\n",
      "7 [u'Txn Date', u'Value', u'Description', u'Ref No./Cheque', u'Debit', u'Credit', u'Balance']\n",
      "2 [u'Date', u'No.']\n",
      "5 [u'7 Feb 2017', u'7 Feb 2017', u'ATM WDL-ATM CASH 70381', u'2,000.00', u'1,574.07']\n",
      "1 [u'+G P O ABIDS']\n",
      "1 [u'HYDERABAD-']\n",
      "5 [u'7 Feb 2017', u'7 Feb 2017', u'REVERSE ATM WDL--', u'2,000.00', u'3,574.07']\n",
      "5 [u'7 Feb 2017', u'7 Feb 2017', u'ATM WDL-ATM CASH 8520', u'2,000.00', u'1,574.07']\n",
      "1 [u'OSMANGUNJ 3RD ATM']\n",
      "1 [u'HYDERABAD-']\n",
      "5 [u'10 Feb', u'10 Feb', u'BULK POSTING-', u'11.50', u'1,585.57']\n",
      "3 [u'2017', u'2017', u'TxMDURF0025535904 01 01']\n",
      "1 [u'17 Debit Card Surcharge G-']\n",
      "6 [u'10 Feb', u'10 Feb', u'BY TRANSFER-INB loan to', u'ITL7392926', u'20,000.00', u'21,585.57']\n",
      "4 [u'2017', u'2017', u'friend-', u'TRANSFER']\n",
      "1 [u'FROM']\n",
      "1 [u'10092208984']\n",
      "6 [u'10 Feb', u'10 Feb', u'TO TRANSFER-INB Standard', u'HSBI5109289729I', u'19,500.00', u'2,085.57']\n",
      "4 [u'2017', u'2017', u'Chartered Bank C', u'GAATUWAJ0']\n",
      "2 [u'STDCHAR_CC Payments-', u'TRANSFER TO']\n",
      "5 [u'12 Feb', u'12 Feb', u'by debit card-POS 011588', u'100.00', u'1,985.57']\n",
      "3 [u'2017', u'2017', u'HIGHWAY9Hyderaba-']\n",
      "6 [u'14 Feb', u'14 Feb', u'BY TRANSFER-IOC Ref', u'TRANSFER', u'261.60', u'2,247.17']\n",
      "4 [u'2017', u'2017', u'No30002517297130290716233', u'FROM']\n",
      "2 [u'14-FEB-2017-', u'3199977105211']\n",
      "6 [u'14 Feb', u'14 Feb', u'BY TRANSFER-INB Borrower-', u'ITL7843694', u'5,000.00', u'7,247.17']\n",
      "3 [u'2017', u'2017', u'TRANSFER']\n",
      "1 [u'FROM']\n",
      "1 [u'30008732954']\n",
      "6 [u'14 Feb', u'14 Feb', u'TO TRANSFER-INB Credit card', u'NageshIB3636567', u'7,000.00', u'247.17']\n",
      "4 [u'2017', u'2017', u'bill-', u'2']\n",
      "1 [u'TRANSFER TO']\n",
      "1 [u'3199631']\n",
      "6 [u'20 Feb', u'20 Feb', u'BY TRANSFER-INB Payment', u'IHD2923681', u'10,000.00', u'10,247.17']\n",
      "4 [u'2017', u'2017', u'towards loan repayment-', u'TRANSFER']\n",
      "1 [u'FROM']\n",
      "1 [u'30437516436']\n",
      "6 [u'20 Feb', u'20 Feb', u'TO TRANSFER-INB GRPT', u'GRPT INB:', u'7,452.50', u'2,794.67']\n",
      "4 [u'2017', u'2017', u'UTR NO: SBI2002173211416-V', u'IZ17702539']\n",
      "2 [u'Srinivas Sharma', u'/ V Srinivas']\n",
      "1 [u'Sharma']\n",
      "5 [u'21 Feb', u'21 Feb', u'DEBIT-00000003605DOM', u'11.50', u'2,783.17']\n",
      "3 [u'2017', u'2017', u'surcharge/tips dt120217']\n",
      "1 [u'594777-']\n",
      "5 [u'23 Feb', u'23 Feb', u'CASH DEPOSIT-CASH', u'3,500.00', u'6,283.17']\n",
      "3 [u'2017', u'2017', u'Deposited at GCC-']\n",
      "6 [u'23 Feb', u'23 Feb', u'TO TRANSFER-INB GRPT', u'GRPT INB:', u'5,002.50', u'1,280.67']\n",
      "4 [u'2017', u'2017', u'UTR NO: SBI2302173259411-', u'IZ17730997']\n",
      "2 [u'Lenin', u'/ Lenin']\n",
      "5 [u'25 Feb', u'25 Feb', u'ATM WDL-ATM CASH 4112', u'500.00', u'780.67']\n",
      "3 [u'2017', u'2017', u'+DILSUKHNAGAR BRANCH']\n",
      "1 [u'HYDERABAD-']\n",
      "5 [u'27 Feb', u'27 Feb', u'BULK POSTING-FEB-2017', u'42,174.00', u'42,954.67']\n",
      "3 [u'2017', u'2017', u'SAL-']\n",
      "6 [u'27 Feb', u'27 Feb', u'TO TRANSFER-INB Credit card', u'IB36585911', u'14,000.00', u'28,954.67']\n",
      "4 [u'2017', u'2017', u'bill-', u'TRANSFER TO']\n",
      "1 [u'3199627162098']\n",
      "6 [u'28 Feb', u'28 Feb', u'TO TRANSFER-INB GRPT', u'GRPT INB:', u'2,002.50', u'26,952.17']\n",
      "4 [u'2017', u'2017', u'UTR NO: SBI2802173388062-', u'IZ17769525']\n",
      "2 [u'Lenin', u'/ Lenin']\n",
      "5 [u'28 Feb', u'28 Feb', u'ATM WDL-ATM CASH 70592', u'1,000.00', u'25,952.17']\n",
      "3 [u'2017', u'2017', u'AXIS BANK LIMITED']\n",
      "1 [u'HYDERABAD-']\n",
      "6 [u'1 Mar 2017', u'1 Mar 2017', u'TO TRANSFER-INB Credit card', u'IB36611696', u'8,200.00', u'17,752.17']\n",
      "2 [u'bill-', u'TRANSFER TO']\n",
      "1 [u'3199634162099']\n",
      "6 [u'2 Mar 2017', u'2 Mar 2017', u'TO TRANSFER-INB ICICI Bank', u'HSBI5156238276I', u'1,300.00', u'16,452.17']\n",
      "2 [u'Credit cardICICI_CC', u'GAAWWSZE9']\n",
      "2 [u'Payments-', u'TRANSFER TO']\n",
      "6 [u'3 Mar 2017', u'3 Mar 2017', u'TO TRANSFER-INB BSNL', u'HSBI5157377337I', u'184.00', u'16,268.17']\n",
      "2 [u'BSNL_RECHARGE Paymen-', u'GAAWYHAZ9']\n",
      "1 [u'TRANSFER TO']\n",
      "6 [u'6 Mar 2017', u'6 Mar 2017', u'TO TRANSFER-', u'TRANSFER TO', u'8,159.00', u'8,109.17']\n",
      "2 [u'P17282306546Tr For  DDR', u'32708338325']\n",
      "1 [u'BAJAJ-AUTO-']\n",
      "7 [u'Txn Date', u'Value', u'Description', u'Ref No./Cheque', u'Debit', u'Credit', u'Balance']\n",
      "2 [u'Date', u'No.']\n",
      "6 [u'6 Mar 2017', u'6 Mar 2017', u'BY TRANSFER-INB', u'MAA0000105', u'30,000.00', u'38,109.17']\n",
      "2 [u'IMPS/P2A/706517334186/XXX', u'MAA00']\n",
      "2 [u'XXXX783NAGESH-', u'TRANSFER']\n",
      "1 [u'FROM 4']\n",
      "6 [u'7 Mar 2017', u'7 Mar 2017', u'BY TRANSFER-INB-', u'ITM0237604', u'6,000.00', u'44,109.17']\n",
      "1 [u'TRANSFER']\n",
      "1 [u'FROM']\n",
      "1 [u'30806836901']\n",
      "5 [u'7 Mar 2017', u'7 Mar 2017', u'ATM WDL-ATM CASH 70660', u'10,000.00', u'34,109.17']\n",
      "1 [u'+YBL MALAKPET']\n",
      "1 [u'HYDERABAD-']\n",
      "5 [u'7 Mar 2017', u'7 Mar 2017', u'ATM WDL-ATM CASH 70660', u'2,000.00', u'32,109.17']\n",
      "1 [u'+YBL MALAKPET']\n",
      "1 [u'HYDERABAD-']\n",
      "5 [u'7 Mar 2017', u'7 Mar 2017', u'DEBIT-000000 SBI', u'6,385.71', u'25,723.46']\n",
      "1 [u'0000003605 SBI CREDIT']\n",
      "1 [u'CARD PAYMENT-']\n",
      "5 [u'7 Mar 2017', u'7 Mar 2017', u'DEBIT-ACHDr', u'24,152.00', u'1,571.46']\n",
      "1 [u'HDFC05813000028172']\n",
      "1 [u'LICHOUSINGFINL-']\n",
      "5 [u'10 Mar', u'10 Mar', u'ATM WDL-ATM CASH 70691', u'1,200.00', u'371.46']\n",
      "3 [u'2017', u'2017', u'+MALAKPET RAILWAY STN']\n",
      "1 [u'KV RANGAREDD-']\n",
      "6 [u'16 Mar', u'16 Mar', u'BY TRANSFER-INB-', u'ITM1462756', u'1,00,000.00', u'1,00,371.46']\n",
      "3 [u'2017', u'2017', u'TRANSFER']\n",
      "1 [u'FROM']\n",
      "1 [u'10092193975']\n",
      "6 [u'17 Mar', u'17 Mar', u'TO TRANSFER-INB-', u'ITM1465906', u'6,000.00', u'94,371.46']\n",
      "3 [u'2017', u'2017', u'TRANSFER TO']\n",
      "1 [u'30806836901']\n",
      "6 [u'17 Mar', u'17 Mar', u'TO TRANSFER-INB GRPT', u'GRPT INB:', u'7,452.50', u'86,918.96']\n",
      "4 [u'2017', u'2017', u'UTR NO: SBI1703173691701-V', u'IZ17971915']\n",
      "2 [u'Srinivas Sharma', u'/ V Srinivas']\n",
      "1 [u'Sharma']\n",
      "6 [u'17 Mar', u'17 Mar', u'TO TRANSFER-INB NEFT', u'NEFT INB:', u'30,004.60', u'56,914.36']\n",
      "4 [u'2017', u'2017', u'UTR NO: SBIN217076202360-', u'IRC8530703']\n",
      "2 [u'Manjunath', u'/ Manjunath']\n",
      "6 [u'17 Mar', u'17 Mar', u'TO TRANSFER-INB NEFT', u'NEFT INB:', u'18,505.60', u'38,408.76']\n",
      "4 [u'2017', u'2017', u'UTR NO: SBIN217076225879-', u'IRC8532272']\n",
      "2 [u'ONE CAPITAl LIMITED', u'/ ONE CAPITAl']\n",
      "1 [u'LIMITED']\n",
      "6 [u'18 Mar', u'18 Mar', u'TO TRANSFER-INB NEFT', u'NEFT INB:', u'10,002.30', u'28,406.46']\n",
      "4 [u'2017', u'2017', u'UTR NO: SBIN217077947554-', u'IRC8622633']\n",
      "2 [u'B LaxmaReddy', u'/ B LaxmaReddy']\n",
      "5 [u'20 Mar', u'20 Mar', u'CREDIT- SAL-', u'1,212.00', u'29,618.46']\n",
      "2 [u'2017', u'2017']\n",
      "5 [u'20 Mar', u'20 Mar', u'by debit card-OTHPOS773400', u'100.00', u'29,518.46']\n",
      "3 [u'2017', u'2017', u'GREENLINE SALES']\n",
      "1 [u'HYDERABAD-']\n",
      "5 [u'20 Mar', u'20 Mar', u'by debit card-OTHPOS110953', u'120.00', u'29,398.46']\n",
      "3 [u'2017', u'2017', u'CLASSIC ICE CREAM']\n",
      "1 [u'HYDERABAD-']\n",
      "6 [u'20 Mar', u'20 Mar', u'TO TRANSFER-INB', u'IMPS0002521809', u'500.00', u'28,898.46']\n",
      "4 [u'2017', u'2017', u'IMPS/P2A/707918795976/XXX', u'7MO37871292']\n",
      "2 [u'XXXX107ICIC-', u'TRANSFER T']\n",
      "5 [u'21 Mar', u'21 Mar', u'ATM WDL-ATM CASH 2189', u'4,000.00', u'24,898.46']\n",
      "3 [u'2017', u'2017', u'+SBI  MALAKOPET 2ND']\n",
      "1 [u'ATHYDERABAD-']\n",
      "5 [u'21 Mar', u'21 Mar', u'BULK POSTING-', u'27.18', u'24,925.64']\n",
      "3 [u'2017', u'2017', u'00000000SBIDIV  10219734-']\n",
      "1 [u'018SBIDIV  10219734- 018-']\n",
      "6 [u'21 Mar', u'21 Mar', u'TO TRANSFER-', u'TRANSFER TO', u'99.00', u'24,826.64']\n",
      "4 [u'2017', u'2017', u'P17286660284Tr For  DDR', u'31852208330']\n",
      "1 [u'BAJAJ-AUTO-']\n",
      "6 [u'21 Mar', u'21 Mar', u'TO TRANSFER-INB Standard', u'ISBI5209204890I', u'4,000.00', u'20,826.64']\n",
      "4 [u'2017', u'2017', u'Chartered Bank C', u'GAAZQXEB0']\n",
      "2 [u'STDCHAR_CC Payments-', u'TRANSFER TO']\n",
      "5 [u'22 Mar', u'22 Mar', u'by debit card-OTHPOS490659', u'200.00', u'20,626.64']\n",
      "3 [u'2017', u'2017', u'CAFE COFFEE DAY']\n",
      "1 [u'HYDERABAD-']\n",
      "7 [u'Txn Date', u'Value', u'Description', u'Ref No./Cheque', u'Debit', u'Credit', u'Balance']\n",
      "2 [u'Date', u'No.']\n",
      "5 [u'23 Mar', u'23 Mar', u'ATM WDL-ATM CASH 9310', u'2,000.00', u'18,626.64']\n",
      "3 [u'2017', u'2017', u'+SBI AKBERBAGH,']\n",
      "1 [u'MALAKPHYDERABAD-']\n",
      "5 [u'24 Mar', u'24 Mar', u'ATM WDL-ATM CASH 70831', u'10,000.00', u'8,626.64']\n",
      "3 [u'2017', u'2017', u'+YBL MALAKPET']\n",
      "1 [u'HYDERABAD-']\n",
      "6 [u'24 Mar', u'24 Mar', u'BY TRANSFER-INB To nagesh', u'IHD6082307', u'10,000.00', u'18,626.64']\n",
      "4 [u'2017', u'2017', u'sir for atm wd-', u'TRANSFER']\n",
      "1 [u'FROM']\n",
      "1 [u'30056344364']\n",
      "6 [u'25 Mar', u'25 Mar', u'BY TRANSFER-INB', u'MAA0000156', u'4,300.00', u'22,926.64']\n",
      "4 [u'2017', u'2017', u'IMPS/P2A/708419914010/XXX', u'MAA00']\n",
      "2 [u'XXXX855-', u'TRANSFER']\n",
      "1 [u'FROM 4']\n",
      "5 [u'25 Mar', u'25 Mar', u'CREDIT INTEREST--', u'131.00', u'23,057.64']\n",
      "2 [u'2017', u'2017']\n",
      "6 [u'27 Mar', u'27 Mar', u'TO TRANSFER-INB BSNL', u'ISBI5225465981I', u'158.00', u'22,899.64']\n",
      "4 [u'2017', u'2017', u'BSNL_RECHARGE Paymen-', u'GABALTCO5']\n",
      "1 [u'TRANSFER TO']\n",
      "6 [u'27 Mar', u'27 Mar', u'TO TRANSFER-INB-', u'IHD6364248', u'5,000.00', u'17,899.64']\n",
      "3 [u'2017', u'2017', u'TRANSFER TO']\n",
      "1 [u'20035196356']\n",
      "5 [u'29 Mar', u'29 Mar', u'BULK POSTING-', u'0.75', u'17,900.39']\n",
      "3 [u'2017', u'2017', u'00000003605 200317']\n",
      "1 [u'GREENLINE SALES AND SE-']\n",
      "5 [u'31 Mar', u'31 Mar', u'ATM WDL-ATM CASH 3276', u'500.00', u'17,400.39']\n",
      "3 [u'2017', u'2017', u'RAILWAY STATION  OLD']\n",
      "1 [u'MSECUNDERABAD-']\n",
      "5 [u'3 Apr 2017', u'3 Apr 2017', u'BULK POSTING-MAR17 SAL-', u'42,174.00', u'59,574.39']\n",
      "6 [u'4 Apr 2017', u'4 Apr 2017', u'TO TRANSFER-INB Standard', u'ISBI5255374424I', u'11,000.00', u'48,574.39']\n",
      "2 [u'Chartered Bank C', u'GABBQAVR6']\n",
      "2 [u'STDCHAR_CC Payments-', u'TRANSFER TO']\n",
      "5 [u'4 Apr 2017', u'4 Apr 2017', u'DEBIT-000000 SBI', u'6,732.47', u'41,841.92']\n",
      "1 [u'0000003605 SBI CREDIT']\n",
      "1 [u'CARD PAYMENT-']\n",
      "6 [u'5 Apr 2017', u'5 Apr 2017', u'TO TRANSFER-INB ICICI Bank', u'ISBI5258210872I', u'1,700.00', u'40,141.92']\n",
      "2 [u'Credit cardICICI_CC', u'GABBUBIK4']\n",
      "2 [u'Payments-', u'TRANSFER TO']\n",
      "6 [u'6 Apr 2017', u'6 Apr 2017', u'TO TRANSFER-', u'TRANSFER TO', u'8,159.00', u'31,982.92']\n",
      "2 [u'P17290369631Tr For  DDR', u'31852208330']\n",
      "1 [u'BAJAJ-AUTO-']\n",
      "5 [u'7 Apr 2017', u'7 Apr 2017', u'DEBIT-ACHDr', u'24,152.00', u'7,830.92']\n",
      "1 [u'HDFC05813000028172']\n",
      "1 [u'LICHOUSINGFINL-']\n",
      "6 [u'8 Apr 2017', u'8 Apr 2017', u'TO TRANSFER-INB BSNL', u'ISBI5273002972I', u'135.00', u'7,695.92']\n",
      "2 [u'BSNL_RECHARGE Paymen-', u'GABCIUWT1']\n",
      "1 [u'TRANSFER TO']\n",
      "5 [u'9 Apr 2017', u'9 Apr 2017', u'by debit card-OTHPOS532753', u'100.00', u'7,595.92']\n",
      "1 [u'AL FATTAH AUTO']\n",
      "1 [u'HYDERABAD-']\n",
      "6 [u'9 Apr 2017', u'9 Apr 2017', u'TO TRANSFER-INB Bundl', u'6083305578IGAB', u'288.00', u'7,307.92']\n",
      "2 [u'technologies Privat-', u'CLZLW7']\n",
      "1 [u'TRANSFER TO']\n",
      "1 [u'459']\n",
      "5 [u'10 Apr', u'10 Apr', u'ATM WDL-ATM CASH 71001', u'2,000.00', u'5,307.92']\n",
      "3 [u'2017', u'2017', u'+MALAKPET RAILWAY STN']\n",
      "1 [u'KV RANGAREDD-']\n",
      "6 [u'10 Apr', u'10 Apr', u'TO TRANSFER-INB', u'IMPS0002652941', u'500.00', u'4,807.92']\n",
      "4 [u'2017', u'2017', u'IMPS/P2A/710018532163/XXX', u'5MO41023792']\n",
      "2 [u'XXXX107ICIC-', u'TRANSFER T']\n",
      "6 [u'11 Apr', u'11 Apr', u'TO TRANSFER-INB', u'IMPS0002652941', u'5.75', u'4,802.17']\n",
      "4 [u'2017', u'2017', u'Commission of', u'5IXH0797148']\n",
      "2 [u'IMPS00026529415--', u'TRANSFER T']\n",
      "6 [u'11 Apr', u'11 Apr', u'BY TRANSFER-INB Gift to', u'IHD7989618', u'500.00', u'5,302.17']\n",
      "4 [u'2017', u'2017', u'relatives / Friends-', u'TRANSFER']\n",
      "1 [u'FROM']\n",
      "1 [u'20035196356']\n",
      "6 [u'11 Apr', u'11 Apr', u'BY TRANSFER-INB payment-', u'IHD7990193', u'5,500.00', u'10,802.17']\n",
      "3 [u'2017', u'2017', u'TRANSFER']\n",
      "1 [u'FROM']\n",
      "1 [u'10092213393']\n",
      "7 [u'Txn Date', u'Value', u'Description', u'Ref No./Cheque', u'Debit', u'Credit', u'Balance']\n",
      "2 [u'Date', u'No.']\n",
      "6 [u'11 Apr', u'11 Apr', u'BY TRANSFER-INB', u'MAA0000192', u'5,000.00', u'15,802.17']\n",
      "4 [u'2017', u'2017', u'IMPS/P2A/710117344079/XXX', u'MAA00']\n",
      "2 [u'XXXX085P2BOTP_2CEF92-', u'TRANSFER']\n",
      "1 [u'FROM 4']\n",
      "6 [u'12 Apr', u'12 Apr', u'TO TRANSFER-INB NEFT', u'NEFT INB:', u'5,000.00', u'10,802.17']\n",
      "4 [u'2017', u'2017', u'UTR NO: SBIN517102558529-', u'IRD1238451']\n",
      "2 [u'Lenin', u'/ Lenin']\n",
      "6 [u'13 Apr', u'13 Apr', u'TO TRANSFER-INB Credit card', u'IB37347566', u'10,000.00', u'802.17']\n",
      "4 [u'2017', u'2017', u'bill-', u'TRANSFER TO']\n",
      "1 [u'3199637162096']\n",
      "6 [u'13 Apr', u'13 Apr', u'BY TRANSFER-INB', u'MAB0000072', u'4,000.00', u'4,802.17']\n",
      "4 [u'2017', u'2017', u'IMPS/P2A/710306298453/XXX', u'MAB00']\n",
      "2 [u'XXXX085P2BOTP_42FF2A-', u'TRANSFER']\n",
      "1 [u'FROM 4']\n",
      "5 [u'13 Apr', u'13 Apr', u'BULK POSTING-', u'0.75', u'4,802.92']\n",
      "3 [u'2017', u'2017', u'00000003605 080417 AL']\n",
      "1 [u'FATTAH AUTO LPG HUB-']\n",
      "6 [u'16 Apr', u'16 Apr', u'TO TRANSFER-INB-', u'IHD8532463', u'1,000.00', u'3,802.92']\n",
      "3 [u'2017', u'2017', u'TRANSFER TO']\n",
      "1 [u'20125809782']\n",
      "6 [u'17 Apr', u'17 Apr', u'TO TRANSFER-INB BSNL', u'ISBI5297665266I', u'185.00', u'3,617.92']\n",
      "4 [u'2017', u'2017', u'BSNL_RECHARGE Paymen-', u'GABDNDEE0']\n",
      "1 [u'TRANSFER TO']\n",
      "6 [u'17 Apr', u'17 Apr', u'BY TRANSFER-INB', u'MAA0000205', u'5,000.00', u'8,617.92']\n",
      "4 [u'2017', u'2017', u'IMPS/P2A/710717260955/XXX', u'MAA00']\n",
      "2 [u'XXXX085P2BOTP_D8AC05-', u'TRANSFER']\n",
      "1 [u'FROM 4']\n",
      "6 [u'17 Apr', u'17 Apr', u'TO TRANSFER-INB GRPT', u'GRPT INB:', u'7,450.00', u'1,167.92']\n",
      "4 [u'2017', u'2017', u'UTR NO: SBI1704174245976-V', u'IZ18296243']\n",
      "2 [u'Srinivas Sharma', u'/ V Srinivas']\n",
      "1 [u'Sharma']\n",
      "6 [u'18 Apr', u'18 Apr', u'BY TRANSFER-', u'TRANSFER', u'38,000.00', u'39,167.92']\n",
      "4 [u'2017', u'2017', u'NEFT*IBKL0000210*ICMS1704', u'FROM']\n",
      "2 [u'180001K3*LIC OF INDIA-', u'3199424044303']\n",
      "6 [u'18 Apr', u'18 Apr', u'BY TRANSFER-', u'TRANSFER', u'23,500.00', u'62,667.92']\n",
      "4 [u'2017', u'2017', u'NEFT*IBKL0000210*ICMS1704', u'FROM']\n",
      "2 [u'180001K2*LIC OF INDIA-', u'3199412044307']\n",
      "6 [u'19 Apr', u'19 Apr', u'TO TRANSFER-INB Credit card', u'IB37451537', u'4,000.00', u'58,667.92']\n",
      "4 [u'2017', u'2017', u'bill-', u'TRANSFER TO']\n",
      "1 [u'3199634162099']\n",
      "5 [u'19 Apr', u'19 Apr', u'by debit card-OTHPOS320566', u'200.00', u'58,467.92']\n",
      "3 [u'2017', u'2017', u'A P AUTO SERVICE']\n",
      "1 [u'HYDERABAD-']\n",
      "6 [u'19 Apr', u'19 Apr', u'TO TRANSFER-INB-', u'IHD8792000', u'6,000.00', u'52,467.92']\n",
      "3 [u'2017', u'2017', u'TRANSFER TO']\n",
      "1 [u'20220984017']\n",
      "5 [u'19 Apr', u'19 Apr', u'ATM WDL-ATM CASH 71091', u'4,000.00', u'48,467.92']\n",
      "3 [u'2017', u'2017', u'+CVR College of Engine']\n",
      "1 [u'K.V.RANGARED-']\n",
      "5 [u'19 Apr', u'19 Apr', u'REVERSE ATM WDL--', u'4,000.00', u'52,467.92']\n",
      "2 [u'2017', u'2017']\n",
      "5 [u'19 Apr', u'19 Apr', u'ATM WDL-ATM CASH 71091', u'2,000.00', u'50,467.92']\n",
      "3 [u'2017', u'2017', u'+CVR College of Engine']\n",
      "1 [u'K.V.RANGARED-']\n",
      "5 [u'19 Apr', u'19 Apr', u'ATM WDL-ATM CASH 71091', u'2,000.00', u'48,467.92']\n",
      "3 [u'2017', u'2017', u'+CVR College of Engine']\n",
      "1 [u'K.V.RANGARED-']\n",
      "5 [u'19 Apr', u'19 Apr', u'ATM WDL-ATM CASH 71091', u'2,000.00', u'46,467.92']\n",
      "3 [u'2017', u'2017', u'+CVR College of Engine']\n",
      "1 [u'K.V.RANGARED-']\n",
      "5 [u'19 Apr', u'19 Apr', u'REVERSE ATM WDL--', u'2,000.00', u'48,467.92']\n",
      "2 [u'2017', u'2017']\n",
      "5 [u'19 Apr', u'19 Apr', u'ATM WDL-ATM CASH 71091', u'2,000.00', u'46,467.92']\n",
      "3 [u'2017', u'2017', u'+CVR College of Engine']\n",
      "1 [u'K.V.RANGARED-']\n",
      "5 [u'19 Apr', u'19 Apr', u'ATM WDL-ATM CASH 71091', u'2,000.00', u'44,467.92']\n",
      "3 [u'2017', u'2017', u'+CVR College of Engine']\n",
      "1 [u'K.V.RANGARED-']\n",
      "6 [u'21 Apr', u'21 Apr', u'TO TRANSFER-INB', u'IMPS0002716198', u'5,000.00', u'39,467.92']\n",
      "4 [u'2017', u'2017', u'IMPS/P2A/711114611095/XXX', u'7MO42589855']\n",
      "2 [u'XXXX678KVBL-', u'TRANSFER T']\n",
      "7 [u'Txn Date', u'Value', u'Description', u'Ref No./Cheque', u'Debit', u'Credit', u'Balance']\n",
      "2 [u'Date', u'No.']\n",
      "5 [u'22 Apr', u'22 Apr', u'ATM WDL-ATM CASH 71121', u'523.00', u'38,944.92']\n",
      "3 [u'2017', u'2017', u'+MALAKPET RAILWAY STN']\n",
      "1 [u'KV RANGAREDD-']\n",
      "5 [u'22 Apr', u'22 Apr', u'by debit card-OTHPOS012701', u'219.00', u'38,725.92']\n",
      "3 [u'2017', u'2017', u'DMART MALAKPET']\n",
      "1 [u'HYDERABAD-']\n",
      "6 [u'23 Apr', u'23 Apr', u'TO TRANSFER-INB', u'IMPS0002716198', u'5.75', u'38,720.17']\n",
      "4 [u'2017', u'2017', u'Commission of', u'7IXH1497380']\n",
      "2 [u'IMPS00027161987--', u'TRANSFER T']\n",
      "5 [u'23 Apr', u'23 Apr', u'by debit card-', u'2,587.34', u'36,132.83']\n",
      "3 [u'2017', u'2017', u'SBIPOS000518265560AVENU']\n",
      "1 [u'E SUPERMARTS LTD-']\n",
      "1 [u'DHYDERABAD-']\n",
      "6 [u'24 Apr', u'24 Apr', u'TO TRANSFER-INB Gift to', u'ITM5878619', u'15,000.00', u'21,132.83']\n",
      "4 [u'2017', u'2017', u'relatives / Friends-', u'TRANSFER TO']\n",
      "1 [u'30806836901']\n",
      "5 [u'24 Apr', u'24 Apr', u'BULK POSTING-', u'1.50', u'21,134.33']\n",
      "3 [u'2017', u'2017', u'00000003605 190417 A P']\n",
      "1 [u'AUTO SERVICE\\\\16 B-']\n",
      "6 [u'25 Apr', u'25 Apr', u'TO TRANSFER-INB BSNL', u'ISBI5317165079I', u'139.00', u'20,995.33']\n",
      "4 [u'2017', u'2017', u'BSNL_RECHARGE Paymen-', u'GABEQTTE4']\n",
      "1 [u'TRANSFER TO']\n",
      "6 [u'27 Apr', u'27 Apr', u'TO TRANSFER-INB-', u'IB37602342', u'14,800.00', u'6,195.33']\n",
      "3 [u'2017', u'2017', u'TRANSFER TO']\n",
      "1 [u'3199637162096']\n"
     ]
    }
   ],
   "source": [
    "for r in sbi_bank_statements.raw_table_data['body']:\n",
    "    print len(r), r"
   ]
  },
  {
   "cell_type": "code",
   "execution_count": null,
   "metadata": {
    "collapsed": true
   },
   "outputs": [],
   "source": []
  }
 ],
 "metadata": {
  "kernelspec": {
   "display_name": "venv",
   "language": "python",
   "name": "venv"
  },
  "language_info": {
   "codemirror_mode": {
    "name": "ipython",
    "version": 2
   },
   "file_extension": ".py",
   "mimetype": "text/x-python",
   "name": "python",
   "nbconvert_exporter": "python",
   "pygments_lexer": "ipython2",
   "version": "2.7.10"
  }
 },
 "nbformat": 4,
 "nbformat_minor": 2
}
