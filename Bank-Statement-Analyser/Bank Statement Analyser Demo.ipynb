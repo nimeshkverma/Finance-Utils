{
 "cells": [
  {
   "cell_type": "markdown",
   "metadata": {},
   "source": [
    "#### Simple Demo for the Ananlysis of the Account Statements of the following primary Banks of India:\n",
    "- ICICI\n",
    "- HDFC\n",
    "- AXIS"
   ]
  },
  {
   "cell_type": "code",
   "execution_count": 1,
   "metadata": {
    "collapsed": true
   },
   "outputs": [],
   "source": [
    "from BankStatements import BankStatements"
   ]
  },
  {
   "cell_type": "markdown",
   "metadata": {},
   "source": [
    "Please provid the path of the bank statement pdf and password as an argument to the Class `BankStatements`"
   ]
  },
  {
   "cell_type": "code",
   "execution_count": 2,
   "metadata": {},
   "outputs": [
    {
     "name": "stdout",
     "output_type": "stream",
     "text": [
      "{'pdf_text_start_date': datetime.datetime(2017, 5, 1, 0, 0), 'pdf_text_end_date': datetime.datetime(2017, 5, 31, 0, 0), 'start_date': datetime.datetime(2017, 5, 4, 0, 0), 'end_date': datetime.datetime(2017, 5, 29, 0, 0), 'days': 31}\n"
     ]
    }
   ],
   "source": [
    "bank_statements = BankStatements('icici.pdf', '')"
   ]
  },
  {
   "cell_type": "markdown",
   "metadata": {},
   "source": [
    "`bank_statements` object has the following attributes and functions:\n",
    "- `pdf_json` \n",
    "    This attribute provide the table in the input bank statement pdf as raw json as provided by library `tabula-py`\n",
    "- `raw_table_data`\n",
    "    This attribute provide the table in the input bank statement pdf in semi processed dictionary\n",
    "- `pdf_text`\n",
    "    This attribute provide all the content present in the pdf as single string\n",
    "- `specific_bank`\n",
    "    This attribute (the most usefull one) provide the object of the Specific bank class"
   ]
  },
  {
   "cell_type": "code",
   "execution_count": 3,
   "metadata": {
    "collapsed": true
   },
   "outputs": [],
   "source": [
    "icici_bank_statements = bank_statements.specific_bank"
   ]
  },
  {
   "cell_type": "markdown",
   "metadata": {},
   "source": [
    "`icici_bank_statements` object has the following attributes and functions:\n",
    "- `statements`\n",
    "    This attribute provide all the rows in the icici bank pdf as list of list\n",
    "- `transaction`\n",
    "    This attribute provide date and account balance dictionary for the icici bank pdf table\n",
    "- `stats`\n",
    "    This attribute provide the following aggregated key results from the table in the icici account statements:\n",
    "    -  `average_balance` : Average balance in the period for which bank statements are provided\n",
    "    -  `days` : Number of days for which bank statements are provided\n",
    "    -  `start_date` : The date from which the transaction started\n",
    "    -  `end_date` : The date at which the transaction ended\n",
    "    -  `pdf_text_start_date` : The start date of the period for which the statements are generated, obtained by pdf text extraction\n",
    "    -  `pdf_text_end_date` : The end date of the period for which the statements are generated, obtained by pdf text extraction\n",
    "- `all_day_transactions`\n",
    "    This attribute provides transaction ie account balance on each day of the period\n",
    "- `get_days_above_given_balance(9000)`\n",
    "    This function will return the days from `pdf_text_start_date` to `pdf_text_end_date` when the account balance was less than 9000\n",
    "- `get_days_above_given_balance_unpartial_months(9000)`\n",
    "    This function will return the days when the account balance was less than 9000 in the complete (starting from 1 to 28/29/30/31) months"
   ]
  },
  {
   "cell_type": "code",
   "execution_count": 4,
   "metadata": {},
   "outputs": [
    {
     "name": "stdout",
     "output_type": "stream",
     "text": [
      "{'end_date': datetime.datetime(2017, 5, 29, 0, 0), 'average_balance': 39625.96, 'days': 31, 'pdf_text_start_date': datetime.datetime(2017, 5, 1, 0, 0), 'pdf_text_end_date': datetime.datetime(2017, 5, 31, 0, 0), 'start_date': datetime.datetime(2017, 5, 4, 0, 0)}\n"
     ]
    }
   ],
   "source": [
    "print icici_bank_statements.stats"
   ]
  },
  {
   "cell_type": "code",
   "execution_count": 5,
   "metadata": {},
   "outputs": [
    {
     "name": "stdout",
     "output_type": "stream",
     "text": [
      "{'below_above_balance_daywise': {datetime.datetime(2017, 5, 8, 0, 0): 95441.54}, 'no_of_days': 1, 'given_balance': 90000}\n"
     ]
    }
   ],
   "source": [
    "print icici_bank_statements.get_days_above_given_balance_unpartial_months(90000)"
   ]
  },
  {
   "cell_type": "code",
   "execution_count": 6,
   "metadata": {},
   "outputs": [
    {
     "name": "stdout",
     "output_type": "stream",
     "text": [
      "{'pdf_text_start_date': datetime.datetime(2016, 12, 1, 0, 0), 'pdf_text_end_date': datetime.datetime(2017, 6, 5, 0, 0), 'start_date': datetime.datetime(2016, 12, 1, 0, 0), 'end_date': datetime.datetime(2017, 6, 5, 0, 0), 'days': 187}\n"
     ]
    }
   ],
   "source": [
    "bank_statements2 = BankStatements('hdfc.pdf', '')"
   ]
  },
  {
   "cell_type": "code",
   "execution_count": 7,
   "metadata": {
    "collapsed": true
   },
   "outputs": [],
   "source": [
    "hdfc_bank_statements = bank_statements2.specific_bank"
   ]
  },
  {
   "cell_type": "code",
   "execution_count": 8,
   "metadata": {},
   "outputs": [
    {
     "name": "stdout",
     "output_type": "stream",
     "text": [
      "{'end_date': datetime.datetime(2017, 6, 5, 0, 0), 'average_balance': 4862.12, 'days': 187, 'pdf_text_start_date': datetime.datetime(2016, 12, 1, 0, 0), 'pdf_text_end_date': datetime.datetime(2017, 6, 5, 0, 0), 'start_date': datetime.datetime(2016, 12, 1, 0, 0)}\n"
     ]
    }
   ],
   "source": [
    "print hdfc_bank_statements.stats"
   ]
  },
  {
   "cell_type": "code",
   "execution_count": 9,
   "metadata": {},
   "outputs": [
    {
     "name": "stdout",
     "output_type": "stream",
     "text": [
      "{'below_above_balance_daywise': {}, 'no_of_days': 0, 'given_balance': 90000}\n"
     ]
    }
   ],
   "source": [
    "print hdfc_bank_statements.get_days_above_given_balance_unpartial_months(90000)"
   ]
  },
  {
   "cell_type": "code",
   "execution_count": 10,
   "metadata": {
    "collapsed": true
   },
   "outputs": [],
   "source": [
    "bank_statements3 = BankStatements('axis_DEVA836948344.pdf', 'DEVA836948344')"
   ]
  },
  {
   "cell_type": "code",
   "execution_count": 11,
   "metadata": {
    "collapsed": true
   },
   "outputs": [],
   "source": [
    "axis_bank_statements = bank_statements3.specific_bank"
   ]
  },
  {
   "cell_type": "code",
   "execution_count": 12,
   "metadata": {},
   "outputs": [
    {
     "name": "stdout",
     "output_type": "stream",
     "text": [
      "{'end_date': datetime.datetime(2017, 6, 24, 0, 0), 'average_balance': 8909.19, 'days': 183, 'pdf_text_start_date': datetime.datetime(2016, 12, 27, 0, 0), 'pdf_text_end_date': datetime.datetime(2017, 6, 27, 0, 0), 'start_date': datetime.datetime(2016, 12, 27, 0, 0)}\n"
     ]
    }
   ],
   "source": [
    "print axis_bank_statements.stats"
   ]
  },
  {
   "cell_type": "code",
   "execution_count": 13,
   "metadata": {},
   "outputs": [
    {
     "name": "stdout",
     "output_type": "stream",
     "text": [
      "{'below_above_balance_daywise': {datetime.datetime(2017, 2, 1, 0, 0): 78251.75, datetime.datetime(2017, 2, 2, 0, 0): 64137.75, datetime.datetime(2017, 2, 3, 0, 0): 61309.75, datetime.datetime(2017, 6, 6, 0, 0): 58342.2}, 'no_of_days': 4, 'given_balance': 50000}\n"
     ]
    }
   ],
   "source": [
    "print axis_bank_statements.get_days_above_given_balance_unpartial_months(50000)"
   ]
  },
  {
   "cell_type": "code",
   "execution_count": 2,
   "metadata": {},
   "outputs": [],
   "source": [
    "bank_statements4 = BankStatements('sbi.pdf', '')"
   ]
  },
  {
   "cell_type": "code",
   "execution_count": 3,
   "metadata": {},
   "outputs": [],
   "source": [
    "sbi_bank_statements = bank_statements4.specific_bank"
   ]
  },
  {
   "cell_type": "code",
   "execution_count": 5,
   "metadata": {},
   "outputs": [
    {
     "name": "stdout",
     "output_type": "stream",
     "text": [
      "{'end_date': datetime.datetime(2017, 4, 27, 0, 0), 'average_balance': 16515.41, 'days': 94, 'pdf_text_start_date': datetime.datetime(2017, 1, 24, 0, 0), 'pdf_text_end_date': datetime.datetime(2017, 4, 27, 0, 0), 'start_date': datetime.datetime(2017, 1, 26, 0, 0)}\n"
     ]
    }
   ],
   "source": [
    "print sbi_bank_statements.stats"
   ]
  },
  {
   "cell_type": "code",
   "execution_count": 8,
   "metadata": {},
   "outputs": [
    {
     "name": "stdout",
     "output_type": "stream",
     "text": [
      "{'below_above_balance_daywise': {datetime.datetime(2017, 4, 18, 0, 0): 62667.92, datetime.datetime(2017, 4, 4, 0, 0): 41841.92, datetime.datetime(2017, 2, 1, 0, 0): 41198.11, datetime.datetime(2017, 3, 16, 0, 0): 100371.46, datetime.datetime(2017, 2, 2, 0, 0): 41198.11, datetime.datetime(2017, 4, 5, 0, 0): 40141.92, datetime.datetime(2017, 4, 20, 0, 0): 44467.92, datetime.datetime(2017, 4, 19, 0, 0): 44467.92, datetime.datetime(2017, 4, 3, 0, 0): 59574.39, datetime.datetime(2017, 2, 3, 0, 0): 45314.11}, 'no_of_days': 10, 'given_balance': 40000}\n"
     ]
    }
   ],
   "source": [
    "print sbi_bank_statements.get_days_above_given_balance_unpartial_months(40000)"
   ]
  },
  {
   "cell_type": "code",
   "execution_count": null,
   "metadata": {
    "collapsed": true
   },
   "outputs": [],
   "source": []
  }
 ],
 "metadata": {
  "kernelspec": {
   "display_name": "venv",
   "language": "python",
   "name": "venv"
  },
  "language_info": {
   "codemirror_mode": {
    "name": "ipython",
    "version": 2
   },
   "file_extension": ".py",
   "mimetype": "text/x-python",
   "name": "python",
   "nbconvert_exporter": "python",
   "pygments_lexer": "ipython2",
   "version": "2.7.10"
  }
 },
 "nbformat": 4,
 "nbformat_minor": 2
}
